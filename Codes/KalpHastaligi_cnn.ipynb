{
  "nbformat": 4,
  "nbformat_minor": 0,
  "metadata": {
    "colab": {
      "provenance": [],
      "gpuType": "T4"
    },
    "kernelspec": {
      "name": "python3",
      "display_name": "Python 3"
    },
    "language_info": {
      "name": "python"
    },
    "accelerator": "GPU"
  },
  "cells": [
    {
      "cell_type": "code",
      "execution_count": 12,
      "metadata": {
        "id": "ErRpnNmzJK5o"
      },
      "outputs": [],
      "source": [
        "import numpy as np\n",
        "import pandas as pd\n",
        "import tensorflow as tf\n",
        "from sklearn.model_selection import train_test_split\n",
        "from sklearn.preprocessing import StandardScaler\n",
        "from sklearn.metrics import classification_report\n",
        "from tensorflow.keras import datasets, layers, models"
      ]
    },
    {
      "cell_type": "code",
      "source": [
        "# Veri setinizi yükleyin (örneğin, 'veri.csv' dosyası):\n",
        "data = pd.read_csv('/content/drive/MyDrive/gdrive/kalp_hastaliklari.csv')"
      ],
      "metadata": {
        "id": "-AlHa8XHJWdj"
      },
      "execution_count": 2,
      "outputs": []
    },
    {
      "cell_type": "code",
      "source": [
        "# Özellikler ve hedef değişkeni ayırın\n",
        "X = data.drop(\"amac\", axis=1)\n",
        "y = data[\"amac\"]"
      ],
      "metadata": {
        "id": "KsPo_CbRKlgz"
      },
      "execution_count": 3,
      "outputs": []
    },
    {
      "cell_type": "code",
      "source": [
        "# Veriyi eğitim ve test kümelerine bölmek\n",
        "X_train, X_test, y_train, y_test = train_test_split(X, y, test_size=0.2, random_state=42)"
      ],
      "metadata": {
        "id": "MpJUS_RzKlWD"
      },
      "execution_count": 4,
      "outputs": []
    },
    {
      "cell_type": "code",
      "source": [
        "# Özellikleri ölçeklendirelim:\n",
        "scaler = StandardScaler()\n",
        "X_train = scaler.fit_transform(X_train)\n",
        "X_test = scaler.transform(X_test)"
      ],
      "metadata": {
        "id": "WtmQ6EwHLGsV"
      },
      "execution_count": 5,
      "outputs": []
    },
    {
      "cell_type": "code",
      "source": [
        "model = tf.keras.Sequential([\n",
        "    tf.keras.layers.Dense(64, activation='relu', input_dim=X_train.shape[1]),\n",
        "    tf.keras.layers.Dense(128, activation='relu'),\n",
        "    tf.keras.layers.Dense(64, activation='relu'),\n",
        "    tf.keras.layers.Dense(1, activation='sigmoid')\n",
        "])"
      ],
      "metadata": {
        "id": "hOHC0criJYyN"
      },
      "execution_count": 13,
      "outputs": []
    },
    {
      "cell_type": "code",
      "source": [
        "# Modeli derleyin:\n",
        "model.compile(optimizer='adam', loss='binary_crossentropy', metrics=['accuracy'])"
      ],
      "metadata": {
        "id": "ZXhVc4TSJY2o"
      },
      "execution_count": 14,
      "outputs": []
    },
    {
      "cell_type": "code",
      "source": [
        "model.fit(X_train, y_train, epochs=100, batch_size=32, validation_split=0.2)"
      ],
      "metadata": {
        "colab": {
          "base_uri": "https://localhost:8080/"
        },
        "id": "Liliom-oJY6Y",
        "outputId": "479b49e4-ecc4-4477-b365-d1ce77b02b1c"
      },
      "execution_count": 19,
      "outputs": [
        {
          "output_type": "stream",
          "name": "stdout",
          "text": [
            "Epoch 1/100\n",
            "7/7 [==============================] - 0s 25ms/step - loss: 0.0019 - accuracy: 1.0000 - val_loss: 1.1115 - val_accuracy: 0.7551\n",
            "Epoch 2/100\n",
            "7/7 [==============================] - 0s 16ms/step - loss: 0.0018 - accuracy: 1.0000 - val_loss: 1.1188 - val_accuracy: 0.7551\n",
            "Epoch 3/100\n",
            "7/7 [==============================] - 0s 17ms/step - loss: 0.0018 - accuracy: 1.0000 - val_loss: 1.1270 - val_accuracy: 0.7551\n",
            "Epoch 4/100\n",
            "7/7 [==============================] - 0s 13ms/step - loss: 0.0017 - accuracy: 1.0000 - val_loss: 1.1330 - val_accuracy: 0.7551\n",
            "Epoch 5/100\n",
            "7/7 [==============================] - 0s 16ms/step - loss: 0.0017 - accuracy: 1.0000 - val_loss: 1.1390 - val_accuracy: 0.7551\n",
            "Epoch 6/100\n",
            "7/7 [==============================] - 0s 22ms/step - loss: 0.0016 - accuracy: 1.0000 - val_loss: 1.1449 - val_accuracy: 0.7551\n",
            "Epoch 7/100\n",
            "7/7 [==============================] - 0s 15ms/step - loss: 0.0016 - accuracy: 1.0000 - val_loss: 1.1468 - val_accuracy: 0.7551\n",
            "Epoch 8/100\n",
            "7/7 [==============================] - 0s 23ms/step - loss: 0.0015 - accuracy: 1.0000 - val_loss: 1.1518 - val_accuracy: 0.7551\n",
            "Epoch 9/100\n",
            "7/7 [==============================] - 0s 26ms/step - loss: 0.0015 - accuracy: 1.0000 - val_loss: 1.1559 - val_accuracy: 0.7551\n",
            "Epoch 10/100\n",
            "7/7 [==============================] - 0s 27ms/step - loss: 0.0014 - accuracy: 1.0000 - val_loss: 1.1654 - val_accuracy: 0.7551\n",
            "Epoch 11/100\n",
            "7/7 [==============================] - 0s 39ms/step - loss: 0.0015 - accuracy: 1.0000 - val_loss: 1.1935 - val_accuracy: 0.7551\n",
            "Epoch 12/100\n",
            "7/7 [==============================] - 0s 19ms/step - loss: 0.0018 - accuracy: 1.0000 - val_loss: 1.1974 - val_accuracy: 0.7551\n",
            "Epoch 13/100\n",
            "7/7 [==============================] - 0s 8ms/step - loss: 0.0016 - accuracy: 1.0000 - val_loss: 1.1901 - val_accuracy: 0.7551\n",
            "Epoch 14/100\n",
            "7/7 [==============================] - 0s 10ms/step - loss: 0.0014 - accuracy: 1.0000 - val_loss: 1.1842 - val_accuracy: 0.7551\n",
            "Epoch 15/100\n",
            "7/7 [==============================] - 0s 8ms/step - loss: 0.0014 - accuracy: 1.0000 - val_loss: 1.1780 - val_accuracy: 0.7551\n",
            "Epoch 16/100\n",
            "7/7 [==============================] - 0s 10ms/step - loss: 0.0013 - accuracy: 1.0000 - val_loss: 1.1814 - val_accuracy: 0.7551\n",
            "Epoch 17/100\n",
            "7/7 [==============================] - 0s 11ms/step - loss: 0.0013 - accuracy: 1.0000 - val_loss: 1.1994 - val_accuracy: 0.7551\n",
            "Epoch 18/100\n",
            "7/7 [==============================] - 0s 10ms/step - loss: 0.0012 - accuracy: 1.0000 - val_loss: 1.1952 - val_accuracy: 0.7551\n",
            "Epoch 19/100\n",
            "7/7 [==============================] - 0s 11ms/step - loss: 0.0011 - accuracy: 1.0000 - val_loss: 1.1956 - val_accuracy: 0.7551\n",
            "Epoch 20/100\n",
            "7/7 [==============================] - 0s 8ms/step - loss: 0.0011 - accuracy: 1.0000 - val_loss: 1.1984 - val_accuracy: 0.7551\n",
            "Epoch 21/100\n",
            "7/7 [==============================] - 0s 8ms/step - loss: 0.0011 - accuracy: 1.0000 - val_loss: 1.2050 - val_accuracy: 0.7551\n",
            "Epoch 22/100\n",
            "7/7 [==============================] - 0s 11ms/step - loss: 0.0011 - accuracy: 1.0000 - val_loss: 1.2171 - val_accuracy: 0.7551\n",
            "Epoch 23/100\n",
            "7/7 [==============================] - 0s 9ms/step - loss: 0.0011 - accuracy: 1.0000 - val_loss: 1.2352 - val_accuracy: 0.7755\n",
            "Epoch 24/100\n",
            "7/7 [==============================] - 0s 11ms/step - loss: 0.0049 - accuracy: 0.9948 - val_loss: 1.2555 - val_accuracy: 0.7551\n",
            "Epoch 25/100\n",
            "7/7 [==============================] - 0s 11ms/step - loss: 0.0012 - accuracy: 1.0000 - val_loss: 1.2784 - val_accuracy: 0.7755\n",
            "Epoch 26/100\n",
            "7/7 [==============================] - 0s 11ms/step - loss: 0.0012 - accuracy: 1.0000 - val_loss: 1.2824 - val_accuracy: 0.7755\n",
            "Epoch 27/100\n",
            "7/7 [==============================] - 0s 11ms/step - loss: 0.0013 - accuracy: 1.0000 - val_loss: 1.2802 - val_accuracy: 0.7755\n",
            "Epoch 28/100\n",
            "7/7 [==============================] - 0s 11ms/step - loss: 0.0011 - accuracy: 1.0000 - val_loss: 1.2692 - val_accuracy: 0.7551\n",
            "Epoch 29/100\n",
            "7/7 [==============================] - 0s 10ms/step - loss: 9.6919e-04 - accuracy: 1.0000 - val_loss: 1.2566 - val_accuracy: 0.7551\n",
            "Epoch 30/100\n",
            "7/7 [==============================] - 0s 9ms/step - loss: 9.2049e-04 - accuracy: 1.0000 - val_loss: 1.2554 - val_accuracy: 0.7551\n",
            "Epoch 31/100\n",
            "7/7 [==============================] - 0s 9ms/step - loss: 8.9296e-04 - accuracy: 1.0000 - val_loss: 1.2714 - val_accuracy: 0.7551\n",
            "Epoch 32/100\n",
            "7/7 [==============================] - 0s 8ms/step - loss: 9.2452e-04 - accuracy: 1.0000 - val_loss: 1.2794 - val_accuracy: 0.7551\n",
            "Epoch 33/100\n",
            "7/7 [==============================] - 0s 11ms/step - loss: 9.1540e-04 - accuracy: 1.0000 - val_loss: 1.2803 - val_accuracy: 0.7551\n",
            "Epoch 34/100\n",
            "7/7 [==============================] - 0s 11ms/step - loss: 8.5520e-04 - accuracy: 1.0000 - val_loss: 1.2742 - val_accuracy: 0.7551\n",
            "Epoch 35/100\n",
            "7/7 [==============================] - 0s 11ms/step - loss: 8.0711e-04 - accuracy: 1.0000 - val_loss: 1.2714 - val_accuracy: 0.7551\n",
            "Epoch 36/100\n",
            "7/7 [==============================] - 0s 12ms/step - loss: 7.6981e-04 - accuracy: 1.0000 - val_loss: 1.2744 - val_accuracy: 0.7551\n",
            "Epoch 37/100\n",
            "7/7 [==============================] - 0s 11ms/step - loss: 7.4868e-04 - accuracy: 1.0000 - val_loss: 1.2792 - val_accuracy: 0.7551\n",
            "Epoch 38/100\n",
            "7/7 [==============================] - 0s 8ms/step - loss: 7.2457e-04 - accuracy: 1.0000 - val_loss: 1.2859 - val_accuracy: 0.7551\n",
            "Epoch 39/100\n",
            "7/7 [==============================] - 0s 9ms/step - loss: 7.0229e-04 - accuracy: 1.0000 - val_loss: 1.2958 - val_accuracy: 0.7551\n",
            "Epoch 40/100\n",
            "7/7 [==============================] - 0s 11ms/step - loss: 6.8462e-04 - accuracy: 1.0000 - val_loss: 1.3028 - val_accuracy: 0.7551\n",
            "Epoch 41/100\n",
            "7/7 [==============================] - 0s 8ms/step - loss: 6.7104e-04 - accuracy: 1.0000 - val_loss: 1.3104 - val_accuracy: 0.7551\n",
            "Epoch 42/100\n",
            "7/7 [==============================] - 0s 11ms/step - loss: 6.5925e-04 - accuracy: 1.0000 - val_loss: 1.3156 - val_accuracy: 0.7551\n",
            "Epoch 43/100\n",
            "7/7 [==============================] - 0s 9ms/step - loss: 6.4614e-04 - accuracy: 1.0000 - val_loss: 1.3175 - val_accuracy: 0.7551\n",
            "Epoch 44/100\n",
            "7/7 [==============================] - 0s 9ms/step - loss: 6.3191e-04 - accuracy: 1.0000 - val_loss: 1.3202 - val_accuracy: 0.7551\n",
            "Epoch 45/100\n",
            "7/7 [==============================] - 0s 8ms/step - loss: 6.1979e-04 - accuracy: 1.0000 - val_loss: 1.3226 - val_accuracy: 0.7551\n",
            "Epoch 46/100\n",
            "7/7 [==============================] - 0s 9ms/step - loss: 6.0836e-04 - accuracy: 1.0000 - val_loss: 1.3262 - val_accuracy: 0.7551\n",
            "Epoch 47/100\n",
            "7/7 [==============================] - 0s 11ms/step - loss: 6.0025e-04 - accuracy: 1.0000 - val_loss: 1.3289 - val_accuracy: 0.7551\n",
            "Epoch 48/100\n",
            "7/7 [==============================] - 0s 11ms/step - loss: 5.9018e-04 - accuracy: 1.0000 - val_loss: 1.3305 - val_accuracy: 0.7551\n",
            "Epoch 49/100\n",
            "7/7 [==============================] - 0s 11ms/step - loss: 5.7850e-04 - accuracy: 1.0000 - val_loss: 1.3309 - val_accuracy: 0.7551\n",
            "Epoch 50/100\n",
            "7/7 [==============================] - 0s 13ms/step - loss: 5.7045e-04 - accuracy: 1.0000 - val_loss: 1.3286 - val_accuracy: 0.7551\n",
            "Epoch 51/100\n",
            "7/7 [==============================] - 0s 8ms/step - loss: 5.6461e-04 - accuracy: 1.0000 - val_loss: 1.3307 - val_accuracy: 0.7551\n",
            "Epoch 52/100\n",
            "7/7 [==============================] - 0s 11ms/step - loss: 5.5682e-04 - accuracy: 1.0000 - val_loss: 1.3334 - val_accuracy: 0.7551\n",
            "Epoch 53/100\n",
            "7/7 [==============================] - 0s 11ms/step - loss: 5.4516e-04 - accuracy: 1.0000 - val_loss: 1.3321 - val_accuracy: 0.7551\n",
            "Epoch 54/100\n",
            "7/7 [==============================] - 0s 8ms/step - loss: 5.3756e-04 - accuracy: 1.0000 - val_loss: 1.3349 - val_accuracy: 0.7551\n",
            "Epoch 55/100\n",
            "7/7 [==============================] - 0s 9ms/step - loss: 5.2529e-04 - accuracy: 1.0000 - val_loss: 1.3416 - val_accuracy: 0.7551\n",
            "Epoch 56/100\n",
            "7/7 [==============================] - 0s 9ms/step - loss: 5.2012e-04 - accuracy: 1.0000 - val_loss: 1.3441 - val_accuracy: 0.7551\n",
            "Epoch 57/100\n",
            "7/7 [==============================] - 0s 8ms/step - loss: 5.1265e-04 - accuracy: 1.0000 - val_loss: 1.3439 - val_accuracy: 0.7551\n",
            "Epoch 58/100\n",
            "7/7 [==============================] - 0s 11ms/step - loss: 5.0255e-04 - accuracy: 1.0000 - val_loss: 1.3515 - val_accuracy: 0.7551\n",
            "Epoch 59/100\n",
            "7/7 [==============================] - 0s 12ms/step - loss: 4.9533e-04 - accuracy: 1.0000 - val_loss: 1.3570 - val_accuracy: 0.7551\n",
            "Epoch 60/100\n",
            "7/7 [==============================] - 0s 9ms/step - loss: 4.8854e-04 - accuracy: 1.0000 - val_loss: 1.3623 - val_accuracy: 0.7551\n",
            "Epoch 61/100\n",
            "7/7 [==============================] - 0s 11ms/step - loss: 5.1257e-04 - accuracy: 1.0000 - val_loss: 1.3679 - val_accuracy: 0.7551\n",
            "Epoch 62/100\n",
            "7/7 [==============================] - 0s 9ms/step - loss: 6.1561e-04 - accuracy: 1.0000 - val_loss: 1.3888 - val_accuracy: 0.7551\n",
            "Epoch 63/100\n",
            "7/7 [==============================] - 0s 10ms/step - loss: 0.0010 - accuracy: 1.0000 - val_loss: 1.3932 - val_accuracy: 0.7551\n",
            "Epoch 64/100\n",
            "7/7 [==============================] - 0s 10ms/step - loss: 9.2766e-04 - accuracy: 1.0000 - val_loss: 1.3845 - val_accuracy: 0.7551\n",
            "Epoch 65/100\n",
            "7/7 [==============================] - 0s 8ms/step - loss: 5.8142e-04 - accuracy: 1.0000 - val_loss: 1.3803 - val_accuracy: 0.7551\n",
            "Epoch 66/100\n",
            "7/7 [==============================] - 0s 9ms/step - loss: 5.2819e-04 - accuracy: 1.0000 - val_loss: 1.3794 - val_accuracy: 0.7551\n",
            "Epoch 67/100\n",
            "7/7 [==============================] - 0s 11ms/step - loss: 4.9055e-04 - accuracy: 1.0000 - val_loss: 1.3823 - val_accuracy: 0.7551\n",
            "Epoch 68/100\n",
            "7/7 [==============================] - 0s 11ms/step - loss: 4.7240e-04 - accuracy: 1.0000 - val_loss: 1.3887 - val_accuracy: 0.7551\n",
            "Epoch 69/100\n",
            "7/7 [==============================] - 0s 8ms/step - loss: 4.5378e-04 - accuracy: 1.0000 - val_loss: 1.3939 - val_accuracy: 0.7551\n",
            "Epoch 70/100\n",
            "7/7 [==============================] - 0s 11ms/step - loss: 4.3883e-04 - accuracy: 1.0000 - val_loss: 1.3999 - val_accuracy: 0.7551\n",
            "Epoch 71/100\n",
            "7/7 [==============================] - 0s 8ms/step - loss: 4.2736e-04 - accuracy: 1.0000 - val_loss: 1.4056 - val_accuracy: 0.7551\n",
            "Epoch 72/100\n",
            "7/7 [==============================] - 0s 9ms/step - loss: 4.1623e-04 - accuracy: 1.0000 - val_loss: 1.4092 - val_accuracy: 0.7551\n",
            "Epoch 73/100\n",
            "7/7 [==============================] - 0s 10ms/step - loss: 4.0767e-04 - accuracy: 1.0000 - val_loss: 1.4129 - val_accuracy: 0.7551\n",
            "Epoch 74/100\n",
            "7/7 [==============================] - 0s 11ms/step - loss: 4.0005e-04 - accuracy: 1.0000 - val_loss: 1.4145 - val_accuracy: 0.7551\n",
            "Epoch 75/100\n",
            "7/7 [==============================] - 0s 11ms/step - loss: 3.9279e-04 - accuracy: 1.0000 - val_loss: 1.4174 - val_accuracy: 0.7551\n",
            "Epoch 76/100\n",
            "7/7 [==============================] - 0s 11ms/step - loss: 3.9334e-04 - accuracy: 1.0000 - val_loss: 1.4292 - val_accuracy: 0.7551\n",
            "Epoch 77/100\n",
            "7/7 [==============================] - 0s 11ms/step - loss: 3.9297e-04 - accuracy: 1.0000 - val_loss: 1.4331 - val_accuracy: 0.7551\n",
            "Epoch 78/100\n",
            "7/7 [==============================] - 0s 10ms/step - loss: 3.8877e-04 - accuracy: 1.0000 - val_loss: 1.4330 - val_accuracy: 0.7551\n",
            "Epoch 79/100\n",
            "7/7 [==============================] - 0s 8ms/step - loss: 3.8065e-04 - accuracy: 1.0000 - val_loss: 1.4327 - val_accuracy: 0.7551\n",
            "Epoch 80/100\n",
            "7/7 [==============================] - 0s 8ms/step - loss: 3.7064e-04 - accuracy: 1.0000 - val_loss: 1.4332 - val_accuracy: 0.7551\n",
            "Epoch 81/100\n",
            "7/7 [==============================] - 0s 9ms/step - loss: 3.6330e-04 - accuracy: 1.0000 - val_loss: 1.4331 - val_accuracy: 0.7551\n",
            "Epoch 82/100\n",
            "7/7 [==============================] - 0s 11ms/step - loss: 3.5656e-04 - accuracy: 1.0000 - val_loss: 1.4333 - val_accuracy: 0.7551\n",
            "Epoch 83/100\n",
            "7/7 [==============================] - 0s 8ms/step - loss: 3.4791e-04 - accuracy: 1.0000 - val_loss: 1.4337 - val_accuracy: 0.7551\n",
            "Epoch 84/100\n",
            "7/7 [==============================] - 0s 11ms/step - loss: 3.4187e-04 - accuracy: 1.0000 - val_loss: 1.4353 - val_accuracy: 0.7551\n",
            "Epoch 85/100\n",
            "7/7 [==============================] - 0s 11ms/step - loss: 3.3640e-04 - accuracy: 1.0000 - val_loss: 1.4367 - val_accuracy: 0.7551\n",
            "Epoch 86/100\n",
            "7/7 [==============================] - 0s 8ms/step - loss: 3.3192e-04 - accuracy: 1.0000 - val_loss: 1.4385 - val_accuracy: 0.7551\n",
            "Epoch 87/100\n",
            "7/7 [==============================] - 0s 8ms/step - loss: 3.2617e-04 - accuracy: 1.0000 - val_loss: 1.4395 - val_accuracy: 0.7551\n",
            "Epoch 88/100\n",
            "7/7 [==============================] - 0s 9ms/step - loss: 3.2224e-04 - accuracy: 1.0000 - val_loss: 1.4417 - val_accuracy: 0.7551\n",
            "Epoch 89/100\n",
            "7/7 [==============================] - 0s 9ms/step - loss: 3.1786e-04 - accuracy: 1.0000 - val_loss: 1.4427 - val_accuracy: 0.7551\n",
            "Epoch 90/100\n",
            "7/7 [==============================] - 0s 9ms/step - loss: 3.1304e-04 - accuracy: 1.0000 - val_loss: 1.4436 - val_accuracy: 0.7551\n",
            "Epoch 91/100\n",
            "7/7 [==============================] - 0s 9ms/step - loss: 3.0878e-04 - accuracy: 1.0000 - val_loss: 1.4464 - val_accuracy: 0.7551\n",
            "Epoch 92/100\n",
            "7/7 [==============================] - 0s 11ms/step - loss: 3.0755e-04 - accuracy: 1.0000 - val_loss: 1.4560 - val_accuracy: 0.7551\n",
            "Epoch 93/100\n",
            "7/7 [==============================] - 0s 11ms/step - loss: 3.0356e-04 - accuracy: 1.0000 - val_loss: 1.4604 - val_accuracy: 0.7551\n",
            "Epoch 94/100\n",
            "7/7 [==============================] - 0s 8ms/step - loss: 3.0025e-04 - accuracy: 1.0000 - val_loss: 1.4678 - val_accuracy: 0.7551\n",
            "Epoch 95/100\n",
            "7/7 [==============================] - 0s 9ms/step - loss: 3.0291e-04 - accuracy: 1.0000 - val_loss: 1.4788 - val_accuracy: 0.7551\n",
            "Epoch 96/100\n",
            "7/7 [==============================] - 0s 11ms/step - loss: 3.1939e-04 - accuracy: 1.0000 - val_loss: 1.4812 - val_accuracy: 0.7551\n",
            "Epoch 97/100\n",
            "7/7 [==============================] - 0s 11ms/step - loss: 3.1762e-04 - accuracy: 1.0000 - val_loss: 1.4799 - val_accuracy: 0.7551\n",
            "Epoch 98/100\n",
            "7/7 [==============================] - 0s 8ms/step - loss: 3.0952e-04 - accuracy: 1.0000 - val_loss: 1.4759 - val_accuracy: 0.7551\n",
            "Epoch 99/100\n",
            "7/7 [==============================] - 0s 8ms/step - loss: 2.9663e-04 - accuracy: 1.0000 - val_loss: 1.4727 - val_accuracy: 0.7551\n",
            "Epoch 100/100\n",
            "7/7 [==============================] - 0s 11ms/step - loss: 2.8703e-04 - accuracy: 1.0000 - val_loss: 1.4698 - val_accuracy: 0.7551\n"
          ]
        },
        {
          "output_type": "execute_result",
          "data": {
            "text/plain": [
              "<keras.src.callbacks.History at 0x7c30acf05750>"
            ]
          },
          "metadata": {},
          "execution_count": 19
        }
      ]
    },
    {
      "cell_type": "code",
      "source": [
        "# Modelin mimarisini görüntüleyin\n",
        "model.summary()"
      ],
      "metadata": {
        "colab": {
          "base_uri": "https://localhost:8080/"
        },
        "id": "bX2j4rLaoiBb",
        "outputId": "d7a22281-73db-478a-90ac-572c7ffa55d4"
      },
      "execution_count": 20,
      "outputs": [
        {
          "output_type": "stream",
          "name": "stdout",
          "text": [
            "Model: \"sequential_3\"\n",
            "_________________________________________________________________\n",
            " Layer (type)                Output Shape              Param #   \n",
            "=================================================================\n",
            " dense_9 (Dense)             (None, 64)                896       \n",
            "                                                                 \n",
            " dense_10 (Dense)            (None, 128)               8320      \n",
            "                                                                 \n",
            " dense_11 (Dense)            (None, 64)                8256      \n",
            "                                                                 \n",
            " dense_12 (Dense)            (None, 1)                 65        \n",
            "                                                                 \n",
            "=================================================================\n",
            "Total params: 17537 (68.50 KB)\n",
            "Trainable params: 17537 (68.50 KB)\n",
            "Non-trainable params: 0 (0.00 Byte)\n",
            "_________________________________________________________________\n"
          ]
        }
      ]
    },
    {
      "cell_type": "code",
      "source": [
        "# Modelin performansını değerlendirin\n",
        "test_loss, test_acc = model.evaluate(X_test, y_test)\n",
        "print(f\"Test accuracy: {test_acc}\")"
      ],
      "metadata": {
        "colab": {
          "base_uri": "https://localhost:8080/"
        },
        "id": "IZKYTapbomWk",
        "outputId": "f56a69a9-2ff5-4332-b00f-751ef79fbed2"
      },
      "execution_count": 21,
      "outputs": [
        {
          "output_type": "stream",
          "name": "stdout",
          "text": [
            "2/2 [==============================] - 0s 8ms/step - loss: 2.2110 - accuracy: 0.8361\n",
            "Test accuracy: 0.8360655903816223\n"
          ]
        }
      ]
    },
    {
      "cell_type": "code",
      "source": [
        "# Modelin performansını değerlendirin\n",
        "y_pred = (model.predict(X_test) > 0.5).astype(int)\n",
        "print(classification_report(y_test, y_pred))"
      ],
      "metadata": {
        "colab": {
          "base_uri": "https://localhost:8080/"
        },
        "id": "8fN1c0PHoYQv",
        "outputId": "08160495-2131-4b76-a716-5afd4725971b"
      },
      "execution_count": 22,
      "outputs": [
        {
          "output_type": "stream",
          "name": "stdout",
          "text": [
            "2/2 [==============================] - 0s 4ms/step\n",
            "              precision    recall  f1-score   support\n",
            "\n",
            "           0       0.79      0.90      0.84        29\n",
            "           1       0.89      0.78      0.83        32\n",
            "\n",
            "    accuracy                           0.84        61\n",
            "   macro avg       0.84      0.84      0.84        61\n",
            "weighted avg       0.84      0.84      0.84        61\n",
            "\n"
          ]
        }
      ]
    }
  ]
}